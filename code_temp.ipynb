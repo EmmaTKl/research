{
 "cells": [
  {
   "cell_type": "markdown",
   "metadata": {},
   "source": [
    "# TEST CODE\n",
    "### We will be practicing git here. Also trying to fix code in a shared environment. "
   ]
  },
  {
   "cell_type": "code",
   "execution_count": 2,
   "metadata": {
    "collapsed": true
   },
   "outputs": [],
   "source": [
    "import astropy\n",
    "import matplotlib"
   ]
  },
  {
   "cell_type": "code",
   "execution_count": 1,
   "metadata": {
    "collapsed": false
   },
   "outputs": [],
   "source": [
    "import csv\n",
    "import numpy as np"
   ]
  },
  {
   "cell_type": "markdown",
   "metadata": {},
   "source": [
    "### Thanks, Emma! I have the files to test now. "
   ]
  },
  {
   "cell_type": "code",
   "execution_count": 14,
   "metadata": {
    "collapsed": false
   },
   "outputs": [
    {
     "name": "stdout",
     "output_type": "stream",
     "text": [
      "[ 5590.  5770.  5445.  5422.  5222.  5645.  5070.  5148.  4466.  4572.\n",
      "  5809.  5485.  4338.  4381.  4261.  4369.  4793.  5096.  5270. 12443.\n",
      " 12741. 11755. 11561.  5605.  5323.  5603. 14329. 14802.  2596.  2422.\n",
      "  6188.  6077.  6200.  5638.  4557.  4661.  4089.  3995.  4039.  5763.\n",
      "  5704.  3355.  3477.  5267.  5338.  7917.  7882.  4366.  4339.  3162.\n",
      "  3086.  2330.  2479.  2984.  3033. 10778. 11394. 11040. 11260.  2488.\n",
      "  2618.  6056.  5100.  6858.  8318.  8438.  8490.  8591.  3065.  3005.\n",
      "  3016.  5988.  5971.  7533.  7382.  6886.  7532.  7243.  7118.  7538.\n",
      "  7814.  3653.  3771.  6169.  6227.  3015.  6896.  2676.  2602.  3267.\n",
      "  3208.  3164.  3259.  3079.  4820.  3325.  4696.  6310.  6230.  3998.\n",
      "  3816.  3790.  4031.  4013.  4944.  4806.  4761.  6623.  6608.  6158.\n",
      "  5998.  6329.  6367.  6492.  6979.  2360.  2490.  6974.  7384.  2282.\n",
      "  2317.  2830.  2802. 11599. 11788.  2874.  2838.  4661.  4728.  2667.\n",
      "  2656.  5601.  5715.  6704.  6541.  6759.  4838.  4856.  5787.  5533.\n",
      "  6230.  5780. 10610. 10659. 10892. 10586. 10230.  9977. 12427. 12728.\n",
      " 10302. 11225. 10150.  9520.  4944.  4798.  2926.  3064.  4608.  4982.\n",
      "  4095.  4208.  5089.  5286.  8365.  8085.  5441.  6322.  4979.  4846.\n",
      "  6985.  6931.  6017.  5965.  2888.  2840.  6225.  3069.  6357.  6032.\n",
      "  3052.  3108.  5603.  4349.  4669.  5621.  5154.  5085.  4550.  4809.]\n"
     ]
    }
   ],
   "source": [
    "cz=[]\n",
    "with open('Barton_Table_New_float.csv') as csv_file:\n",
    "    cz_temp = np.genfromtxt(csv_file, dtype=float, delimiter=',', filling_values=9999, usecols=[1])\n",
    "    #print(cz_temp)\n",
    "    cz = np.append(cz, cz_temp)\n",
    "\n",
    "print(cz)\n"
   ]
    "source": [
    "d=[]\n",
    "with open('Barton_Table_New_float.csv') as csv_file:\n",
    "    d_temp = np.genfromtxt(csv_file, dtype=float, delimiter=',', filling_values=9999, usecols=[2])\n",
    "    #print(d_temp)\n",
    "    d = np.append(d, d_temp)\n",
    "\n",
    "print(cz)\n"
   ]
  },
  {
   "cell_type": "code",
   "execution_count": null,
   "metadata": {
    "collapsed": true
   },
   "outputs": [],
   "source": []
  }
 ],
 "metadata": {
  "anaconda-cloud": {},
  "kernelspec": {
   "display_name": "Python [py36]",
   "language": "python",
   "name": "Python [py36]"
  },
  "language_info": {
   "codemirror_mode": {
    "name": "ipython",
    "version": 3
   },
   "file_extension": ".py",
   "mimetype": "text/x-python",
   "name": "python",
   "nbconvert_exporter": "python",
   "pygments_lexer": "ipython3",
   "version": "3.6.4"
  }
 },
 "nbformat": 4,
 "nbformat_minor": 2
}
