{
 "cells": [
  {
   "cell_type": "markdown",
   "metadata": {},
   "source": [
    "# Make pretty \"images\" showing the color magnitude diagrams for SDSS galaxies"
   ]
  },
  {
   "cell_type": "markdown",
   "metadata": {},
   "source": [
    "The SDSS DR 7 photometry (> 100,000 randomly seelcted galaxies within the full >1 million galaxy sample) will be used to generate galaxy CMD. We don't do careful filtering here (i.e., there may still be AGN in the sample) but we use the kcorrected (i.e., galaxy SED) magnitudes where available, aiming to select mostly galaxies well-fit by galaxy templates. The goal here is to show where typical galaxies (z>0.01) reside in color-magnitude space. We will overlay our sample of Swift pair galaxies, drawn from the Barton paper of close pairs of galaxies, on the CMD as a comparison.   "
   ]
  },
  {
   "cell_type": "markdown",
   "metadata": {},
   "source": [
    "#### initialize with import libraries"
   ]
  },
  {
   "cell_type": "code",
   "execution_count": 1,
   "metadata": {},
   "outputs": [],
   "source": [
    "import matplotlib as mpl\n",
    "import matplotlib.pyplot as plt \n",
    "import sys, os\n",
    "import astropy.io.fits as fits\n",
    "import numpy as np\n",
    "from astropy.cosmology import FlatLambdaCDM\n",
    "cosmo = FlatLambdaCDM(H0=70, Om0=0.3, Tcmb0=2.725)\n",
    "\n",
    "# ignore runtime warnings\n",
    "\n",
    "if not sys.warnoptions:\n",
    "    import warnings\n",
    "    warnings.simplefilter(\"ignore\")\n"
   ]
  },
  {
   "cell_type": "code",
   "execution_count": 2,
   "metadata": {},
   "outputs": [],
   "source": [
    "sdss = fits.open('data/sdssphot_random.fits')\n",
    "data=sdss[1].data"
   ]
  },
  {
   "cell_type": "markdown",
   "metadata": {},
   "source": [
    "## Initialize sample: \n",
    "Get colors and absolute magnitudes from this SDSS-DR7 sample"
   ]
  },
  {
   "cell_type": "code",
   "execution_count": 3,
   "metadata": {},
   "outputs": [],
   "source": [
    "# Get required data\n",
    "z=data['z']\n",
    "d_l_pc=cosmo.luminosity_distance(z).value*1.e6\n",
    "\n",
    "# get apparent magnitudes\n",
    "mag=data['kcor_mag']\n",
    "gmag=mag[:,0]\n",
    "rmag=mag[:,1]\n",
    "imag=mag[:,2]"
   ]
  },
  {
   "cell_type": "code",
   "execution_count": 4,
   "metadata": {},
   "outputs": [
    {
     "name": "stdout",
     "output_type": "stream",
     "text": [
      "There are 91871 galaxies included in our final analysis... \n"
     ]
    }
   ],
   "source": [
    "# determine where the values are appropriate. \n",
    "#good = np.where((gmag > 0) & (rmag > 0) & (imag > 0))\n",
    "good=np.where((z>0.01) & ( gmag > 0 ) & ( rmag > 0 ) & ( imag > 0 ) & ( d_l_pc > 0))\n",
    "print(\"There are %i galaxies included in our final analysis... \" % np.size(good))"
   ]
  },
  {
   "cell_type": "code",
   "execution_count": 5,
   "metadata": {},
   "outputs": [],
   "source": [
    "# for good galaxies, calculate remaining useful data:\n",
    "dm=5*(np.log10(d_l_pc[good])-1)  # distance modulus\n",
    "\n",
    "# absolute magnitudes\n",
    "g_absmag = gmag[good] - dm\n",
    "r_absmag = rmag[good] - dm\n",
    "i_absmag = imag[good] - dm\n",
    "\n",
    "col_g_r = g_absmag - r_absmag\n"
   ]
  },
  {
   "cell_type": "markdown",
   "metadata": {},
   "source": [
    "## Make Plot:\n",
    "Now that we have all the data for the plot, make 2D histogram showing color-magnitude diagram for the ramdom SDSS galaxies"
   ]
  },
  {
   "cell_type": "code",
   "execution_count": 6,
   "metadata": {},
   "outputs": [
    {
     "data": {
      "image/png": "[encoded data removed]",
      "text/plain": [
       "<Figure size 720x504 with 1 Axes>"
      ]
     },
     "metadata": {
      "needs_background": "light"
     },
     "output_type": "display_data"
    }
   ],
   "source": [
    "import random\n",
    "n = 100\n",
    "x = i_absmag \n",
    "y = col_g_r  \n",
    "  \n",
    "\n",
    "# Creating bins \n",
    "x_min = -24  #np.min(x) \n",
    "x_max = -12  #np.max(x) \n",
    "  \n",
    "y_min = -0.3   #np.min(y) \n",
    "y_max = 1.5   #np.max(y) \n",
    "  \n",
    "nbin_x = round(abs(x_max-x_min)/0.25)\n",
    "nbin_y = round(abs(y_max-y_min)/0.05)\n",
    "\n",
    "x_bins = np.linspace(x_min, x_max, nbin_x) \n",
    "y_bins = np.linspace(y_min, y_max, nbin_y) \n",
    "  \n",
    "fig, ax = plt.subplots(figsize =(10, 7)) \n",
    "# Creating plot \n",
    "plt.hist2d(x, y, bins =[x_bins, y_bins], norm=mpl.colors.LogNorm(), cmap=mpl.cm.gray_r) \n",
    "plt.title(\"Color Magnitude Diagram\") \n",
    "  \n",
    "ax.set_xlabel('I')  \n",
    "ax.set_ylabel('G - R')  \n",
    "  \n",
    "ax.invert_xaxis()\n",
    "\n",
    "# show plot \n",
    "plt.tight_layout()  \n",
    "plt.show() \n",
    "    \n",
    "    "
   ]
  },
  {
   "cell_type": "markdown",
   "metadata": {},
   "source": [
    "### Next steps: <font color=red> TO DO! </font> \n",
    "I would like Emma to add the points for the full Barton sample with small (blue?)points and then our specific sample of ~ 30 pairs with larger points (red?) to show how these compare with parent sample. Note, we might have to change the magnitude choices used since GRI may not be available for the Barton sample. "
   ]
  },
  {
   "cell_type": "code",
   "execution_count": null,
   "metadata": {},
   "outputs": [],
   "source": []
  }
 ],
 "metadata": {
  "kernelspec": {
   "display_name": "Python 3",
   "language": "python",
   "name": "python3"
  },
  "language_info": {
   "codemirror_mode": {
    "name": "ipython",
    "version": 3
   },
   "file_extension": ".py",
   "mimetype": "text/x-python",
   "name": "python",
   "nbconvert_exporter": "python",
   "pygments_lexer": "ipython3",
   "version": "3.7.7"
  }
 },
 "nbformat": 4,
 "nbformat_minor": 4
}
