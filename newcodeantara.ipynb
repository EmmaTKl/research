{
 "cells": [
  {
   "cell_type": "code",
   "execution_count": 1,
   "metadata": {},
   "outputs": [],
   "source": [
    "import astropy"
   ]
  },
  {
   "cell_type": "code",
   "execution_count": 2,
   "metadata": {},
   "outputs": [],
   "source": [
    "import matplotlib"
   ]
  },
  {
   "cell_type": "code",
   "execution_count": 3,
   "metadata": {},
   "outputs": [],
   "source": [
    "import csv\n",
    "import numpy as np"
   ]
  },
  {
   "cell_type": "code",
   "execution_count": 5,
   "metadata": {},
   "outputs": [
    {
     "name": "stdout",
     "output_type": "stream",
     "text": [
      "[ 5590.  5770.  5445.  5422.  5222.  5645.  5070.  5148.  4466.  4572.\n",
      "  5809.  5485.  4338.  4381.  4261.  4369.  4793.  5096.  5270. 12443.\n",
      " 12741. 11755. 11561.  5605.  5323.  5603. 14329. 14802.  2596.  2422.\n",
      "  6188.  6077.  6200.  5638.  4557.  4661.  4089.  3995.  4039.  5763.\n",
      "  5704.  3355.  3477.  5267.  5338.  7917.  7882.  4366.  4339.  3162.\n",
      "  3086.  2330.  2479.  2984.  3033. 10778. 11394. 11040. 11260.  2488.\n",
      "  2618.  6056.  5100.  6858.  8318.  8438.  8490.  8591.  3065.  3005.\n",
      "  3016.  5988.  5971.  7533.  7382.  6886.  7532.  7243.  7118.  7538.\n",
      "  7814.  3653.  3771.  6169.  6227.  3015.  6896.  2676.  2602.  3267.\n",
      "  3208.  3164.  3259.  3079.  4820.  3325.  4696.  6310.  6230.  3998.\n",
      "  3816.  3790.  4031.  4013.  4944.  4806.  4761.  6623.  6608.  6158.\n",
      "  5998.  6329.  6367.  6492.  6979.  2360.  2490.  6974.  7384.  2282.\n",
      "  2317.  2830.  2802. 11599. 11788.  2874.  2838.  4661.  4728.  2667.\n",
      "  2656.  5601.  5715.  6704.  6541.  6759.  4838.  4856.  5787.  5533.\n",
      "  6230.  5780. 10610. 10659. 10892. 10586. 10230.  9977. 12427. 12728.\n",
      " 10302. 11225. 10150.  9520.  4944.  4798.  2926.  3064.  4608.  4982.\n",
      "  4095.  4208.  5089.  5286.  8365.  8085.  5441.  6322.  4979.  4846.\n",
      "  6985.  6931.  6017.  5965.  2888.  2840.  6225.  3069.  6357.  6032.\n",
      "  3052.  3108.  5603.  4349.  4669.  5621.  5154.  5085.  4550.  4809.]\n"
     ]
    }
   ],
   "source": [
    "cz=[]\n",
    "with open('Barton_Table_New_float.csv') as csv_file:\n",
    "    cz_temp = np.genfromtxt(csv_file, dtype=float, delimiter=',', filling_values=9999, usecols=[1])\n",
    "    cz = np.append(cz, cz_temp)\n",
    "\n",
    "    \n",
    "print(cz)"
   ]
  },
  {
   "cell_type": "code",
   "execution_count": 12,
   "metadata": {},
   "outputs": [
    {
     "name": "stdout",
     "output_type": "stream",
     "text": [
      "[ 7.6  7.6 31.9 31.9  9.8  9.8 29.5 29.5 17.3 17.3 51.2 51.2 27.2 15.5\n",
      " 15.5 37.5 37.5 48.5 48.5 24.2 24.2 35.7 35.7 34.1 13.6 13.6 39.  39.\n",
      " 39.8 39.8 42.2 42.2 49.5 49.5 50.8 50.8 25.4 20.2 20.2 47.5 47.5 17.5\n",
      " 17.5 10.7 10.7 30.4 30.4 40.3 40.3  4.2  4.2  5.3  5.3 32.6 50.2 10.6\n",
      " 10.6 30.9 31.4 48.4 48.4 16.6  7.3  7.3 41.9 41.9  6.1  6.1 42.9 42.2\n",
      " 42.2 21.8 21.8 11.2 11.2 15.9 15.9 29.7 29.7 26.5 26.5 10.1 10.1 12.\n",
      " 12.  31.9 53.8 10.7 10.7 12.6 12.6  5.2  5.2 17.1 41.8 17.1 41.8 27.3\n",
      " 27.3 54.5 54.5 29.4 17.  17.  29.8 31.5 29.8 12.1 12.1 32.7 32.7 30.5\n",
      " 30.5 19.4 19.4 11.1 11.1 25.2 25.2  8.2  8.2 19.7 19.7 42.4 42.4 13.5\n",
      " 13.5 46.4 46.4 30.  30.  29.3 29.3 34.2 20.  20.  29.  29.  18.4 18.2\n",
      " 57.2 52.7 14.6 14.6 38.3 38.3 13.  13.  18.6 18.6 76.2 76.2 47.8 47.8\n",
      " 15.6 15.6 20.1 20.1 42.4 42.4 50.3 50.3 21.4 21.4 17.3 17.3 24.3 24.3\n",
      " 11.3 11.3  5.1  5.1  8.6  8.6 26.1 26.1 46.  52.8 18.5 18.5 13.6 13.6\n",
      " 32.2 13.5 13.5 32.2 12.8 12.8 15.5 15.5]\n"
     ]
    }
   ],
   "source": [
    "d=[]\n",
    "with open('Barton_Table_New_float.csv') as csv_file:\n",
    "    d_temp = np.genfromtxt(csv_file, dtype=float, delimiter=',', filling_values=9999, usecols=[2])\n",
    "    d = np.append(d, d_temp)\n",
    "\n",
    "print(d)"
   ]
  },
  {
   "cell_type": "code",
   "execution_count": 36,
   "metadata": {},
   "outputs": [
    {
     "data": {
      "image/png": "[encoded data removed]",
      "text/plain": [
       "<Figure size 432x288 with 1 Axes>"
      ]
     },
     "metadata": {
      "needs_background": "light"
     },
     "output_type": "display_data"
    }
   ],
   "source": [
    "import matplotlib.pyplot as plt\n",
    "X = [d]\n",
    "Y = [cz]\n",
    "plt.title('CZ and Distance')\n",
    "plt.ylabel('CZ')\n",
    "plt.xlabel('Distance')\n",
    "plt.scatter(X,Y,label= 'star', color= 'purple', marker= '*', s=30)\n",
    "plt.show()"
   ]
  },
  {
   "cell_type": "code",
   "execution_count": 13,
   "metadata": {},
   "outputs": [
    {
     "name": "stdout",
     "output_type": "stream",
     "text": [
      "[181. 181.  22.  22. 423. 423.  78.  78. 106. 106. 324. 324.  44.  44.\n",
      "  77. 154. 154. 174. 174. 298. 298. 194. 194.   2. 280.   2. 473. 473.\n",
      " 174. 174. 111. 111. 562. 562. 104. 104.  39.  44.  44.  59.  59. 122.\n",
      " 122.  72.  72.  35.  35.  27.  27.  76.  76. 149. 149.  48.  31. 262.\n",
      " 262. 220. 134. 130. 130. 802. 956. 802. 120. 120. 102. 102.  49.  11.\n",
      "  11.  17.  17. 151. 151. 646. 646. 125. 125. 276. 276. 117. 117.  58.\n",
      "  58. 336. 152.  74.  74.  59.  59.  85.  65.  85. 124.  65. 124.  80.\n",
      "  80. 183. 183. 223.  18.  18. 138.  46.  46.  15.  15. 160. 160.  38.\n",
      "  38. 406.  81. 130. 130. 409. 409.  35.  35.  28.  28. 189. 189.  37.\n",
      "  37.  67.  67.  11.  11. 113. 113.  55. 163.  55.  18.  18. 254. 254.\n",
      " 450. 450.  49.  49. 305. 305. 254. 254. 301. 301. 923. 923. 630. 630.\n",
      " 146. 146. 138. 138. 374. 374. 113. 113. 196. 196. 180. 180. 880. 880.\n",
      " 132. 132.  53.  53.  52.  52.  48.  48. 132. 738. 132. 193.  56.  56.\n",
      "  18. 321. 321.  18.  69.  69. 258. 258.]\n"
     ]
    }
   ],
   "source": [
    "vs=[]\n",
    "with open('Barton_Table_New_float.csv') as csv_file:\n",
    "    vs_temp = np.genfromtxt(csv_file, dtype=float, delimiter=',', filling_values=9999, usecols=[3])\n",
    "    vs = np.append(vs, vs_temp)\n",
    "\n",
    "print(vs)"
   ]
  },
  {
   "cell_type": "code",
   "execution_count": 15,
   "metadata": {},
   "outputs": [
    {
     "name": "stdout",
     "output_type": "stream",
     "text": [
      "[ -19.94  -20.14  -21.4   -21.17  -20.84  -21.56  -20.23  -20.66  -20.69\n",
      "  -21.1   -20.88  -20.59  -22.06  -21.61  -20.39  -20.95  -20.69  -21.66\n",
      "  -20.72  -22.24  -22.01  -21.24  -22.4   -21.32  -21.46  -21.41  -22.92\n",
      "  -23.3   -21.39  -21.72  -20.69  -22.09  -23.07  -20.89  -20.71  -19.78\n",
      "  -19.84  -21.54  -20.22  -20.07  -19.97  -18.65  -21.51  -20.23  -20.86\n",
      "  -20.68  -20.35  -20.95  -19.55  -19.73  -18.89  -20.3   -18.3   -20.46\n",
      "  -18.55  -22.36  -22.36  -21.89  -20.18  -19.34 -201.14  -21.26  -20.62\n",
      "  -23.88  -20.46  -21.39  -21.65  -20.82  -22.31  -19.45  -20.83  -21.01\n",
      "  -20.11  -20.95  -22.76  -20.53  -22.42  -20.77  -20.93  -21.75  -21.64\n",
      "  -20.06  -18.67  -21.47  -19.36  -18.87  -20.07  -20.87  -21.32  -19.8\n",
      "  -21.36  -19.73  -19.73  -20.89  -21.09  -21.32  -21.11  -20.02  -21.12\n",
      "  -20.34  -21.15  -21.88  -20.69  -21.2   -19.89  -21.22  -21.13  -21.8\n",
      "  -21.75  -21.38  -20.87  -20.18  -20.56  -20.91  -21.91  -18.77  -21.51\n",
      "  -22.42  -20.6   -21.69  -21.46  -18.98  -18.14  -21.24  -21.44  -20.89\n",
      "  -19.39  -21.21  -20.16  -19.78  -19.7   -20.94  -19.72  -20.17  -21.25\n",
      "  -22.4   -22.15  -22.36  -21.73  -21.46  -21.7   -21.87  -22.24  -21.77\n",
      "  -21.58  -21.98  -21.8   -20.71  -22.82  -22.66  -22.04  -21.33  -22.44\n",
      "  -22.19  -20.24  -20.33  -19.31  -21.45  -20.29  -22.89  -19.63  -20.61\n",
      "  -21.61  -20.9   -21.12  -20.93  -21.14  -21.88  -21.81  -21.13  -21.13\n",
      "  -20.14  -19.63  -20.44  -20.63  -22.27  -20.42  -19.93  -21.1   -20.84\n",
      "  -20.26  -20.26  -19.97  -20.97  -23.06  -21.56  -21.72  -21.56  -22.11\n",
      "  -21.19]\n"
     ]
    }
   ],
   "source": [
    "absmag=[]\n",
    "with open('Barton_Table_New_float.csv') as csv_file:\n",
    "    absmag_temp = np.genfromtxt(csv_file, dtype=float, delimiter=',', filling_values=9999, usecols=[4])\n",
    "    absmag = np.append(absmag, absmag_temp)\n",
    "    \n",
    "print(absmag)"
   ]
  },
  {
   "cell_type": "code",
   "execution_count": 17,
   "metadata": {},
   "outputs": [
    {
     "name": "stdout",
     "output_type": "stream",
     "text": [
      "[0.75 0.92 1.39 1.51 1.38 1.6  1.36 0.94 0.63 0.63 1.62 1.56 1.56 1.5\n",
      " 0.96 1.63 0.96 1.45 1.27 1.4  1.36 0.98 1.52 1.32 0.85 0.93 0.99 1.77\n",
      " 1.28 1.56 0.87 1.25 1.43 0.66 1.67 1.08 1.12 1.18 0.9  0.83 0.89 0.79\n",
      " 1.48 0.66 0.77 0.69 0.91 1.29 0.7  0.55 0.56 1.51 0.99 1.34 0.84 1.72\n",
      " 1.72 1.3  0.98 1.07 2.31 1.52 1.61 1.34 1.18 1.58 1.35 1.7  1.93 1.24\n",
      " 1.5  1.58 0.73 1.41 0.   1.64 1.56 1.24 1.4  1.2  1.46 1.02 0.48 1.64\n",
      " 0.83 0.96 1.47 1.27 1.65 1.15 1.41 0.25 0.68 1.11 1.41 0.63 0.84 0.6\n",
      " 1.24 1.28 1.47 1.64 1.34 1.75 1.13 1.41 1.35 1.46 1.57 1.68 1.56 0.74\n",
      " 0.94 1.44 1.5  0.92 1.59 1.69 1.22 1.67 1.67 0.58 0.62 1.6  1.62 2.07\n",
      " 1.   1.48 1.39 1.4  0.89 0.97 0.89 1.3  1.4  1.63 1.53 1.63 1.69 1.68\n",
      " 1.38 1.62 1.02 2.24 1.2  0.71 1.03 1.07 1.68 1.81 1.6  1.26 1.77 1.62\n",
      " 1.28 1.23 0.84 1.39 1.4  1.72 0.85 1.38 1.48 1.33 1.39 0.96 1.31 1.45\n",
      " 1.47 1.08 0.69 0.63 0.82 1.16 1.41 1.45 1.08 0.98 1.2  1.05 1.37 0.8\n",
      " 0.94 0.76 1.36 1.42 1.52 1.62 1.9  2.08]\n"
     ]
    }
   ],
   "source": [
    "br=[]\n",
    "with open('Barton_Table_New_float.csv') as csv_file:\n",
    "    br_temp = np.genfromtxt(csv_file, dtype=float, delimiter=',', filling_values=9999, usecols=[5])\n",
    "    br = np.append(br, br_temp)\n",
    "    \n",
    "print(br)"
   ]
  },
  {
   "cell_type": "code",
   "execution_count": 18,
   "metadata": {},
   "outputs": [
    {
     "name": "stdout",
     "output_type": "stream",
     "text": [
      "[1.301e+02 4.710e+01 0.000e+00 5.800e+00 9.000e+00 0.000e+00 0.000e+00\n",
      " 1.810e+01 9.680e+01 7.100e+01 1.100e+01 6.100e+00 1.350e+01 0.000e+00\n",
      " 1.040e+01 6.500e+00 3.690e+01 1.200e+01 1.150e+01 6.200e+00 2.750e+01\n",
      " 2.260e+01 1.060e+01 6.400e+00 5.820e+01 4.590e+01 1.790e+01 0.000e+00\n",
      " 7.790e+01 0.000e+00 1.760e+01 1.060e+01 0.000e+00 1.870e+01 0.000e+00\n",
      " 1.010e+01 2.300e+01 2.840e+01 2.000e+01 2.860e+01 2.610e+01 3.170e+01\n",
      " 0.000e+00 9.770e+01 7.180e+01 3.990e+01 8.630e+01 9.300e+00 2.990e+01\n",
      " 8.670e+01 1.002e+02 0.000e+00 2.170e+01 4.230e+01 2.080e+01 0.000e+00\n",
      " 0.000e+00 1.290e+01 2.160e+01 3.320e+01 1.320e+01 6.200e+00 0.000e+00\n",
      " 0.000e+00 1.410e+01 0.000e+00 2.510e+01 2.980e+01 8.000e+00 1.020e+01\n",
      " 0.000e+00 1.350e+01 4.330e+01 1.090e+01 9.999e+03 7.100e+00 0.000e+00\n",
      " 5.140e+01 6.300e+00 1.120e+01 1.030e+01 3.260e+01 5.890e+01 4.500e+01\n",
      " 0.000e+00 1.280e+01 0.000e+00 3.730e+01 0.000e+00 1.210e+01 1.590e+01\n",
      " 3.470e+01 1.523e+02 2.260e+01 8.600e+00 7.930e+01 4.730e+01 2.140e+01\n",
      " 7.600e+00 3.400e+01 0.000e+00 0.000e+00 0.000e+00 8.900e+00 1.160e+01\n",
      " 5.000e+00 1.540e+01 1.440e+01 1.440e+01 0.000e+00 0.000e+00 3.950e+01\n",
      " 4.730e+01 5.400e+00 0.000e+00 2.870e+01 0.000e+00 0.000e+00 8.000e+00\n",
      " 0.000e+00 0.000e+00 6.200e-01 3.070e+01 6.400e+00 5.500e+00 0.000e+00\n",
      " 7.100e+00 0.000e+00 1.370e+01 4.210e+01 2.710e+01 3.060e+01 3.480e+01\n",
      " 1.500e+01 1.290e+01 8.200e+00 0.000e+00 0.000e+00 4.100e+00 9.999e+03\n",
      " 4.100e+00 0.000e+00 1.120e+01 7.500e+00 2.390e+01 5.470e+01 4.420e+01\n",
      " 2.390e+01 3.800e+00 6.500e+00 0.000e+00 3.250e+01 4.400e+00 0.000e+00\n",
      " 1.440e+01 1.360e+01 1.040e+01 0.000e+00 0.000e+00 0.000e+00 3.490e+01\n",
      " 2.970e+01 0.000e+00 1.440e+01 0.000e+00 3.120e+01 1.460e+01 0.000e+00\n",
      " 1.480e+01 1.540e+01 7.150e+01 5.740e+01 2.390e+01 1.990e+01 1.760e+01\n",
      " 1.390e+01 1.480e+01 9.600e+00 1.990e+01 1.750e+01 0.000e+00 2.210e+01\n",
      " 2.120e+01 5.270e+01 4.640e+01 5.360e+01 0.000e+00 0.000e+00 1.440e+01\n",
      " 1.010e+01]\n"
     ]
    }
   ],
   "source": [
    "ha=[]\n",
    "with open('Barton_Table_New_float.csv') as csv_file:\n",
    "    ha_temp = np.genfromtxt(csv_file, dtype=float, delimiter=',', filling_values=9999, usecols=[6])\n",
    "    ha = np.append(ha, ha_temp)\n",
    "    \n",
    "print(ha)"
   ]
  },
  {
   "cell_type": "code",
   "execution_count": 19,
   "metadata": {},
   "outputs": [
    {
     "name": "stdout",
     "output_type": "stream",
     "text": [
      "[4.07   4.82   0.9999 0.9999 2.88   0.9999 0.9999 2.92   5.77   3.57\n",
      " 0.9999 0.9999 0.9999 0.9999 0.9999 0.9999 4.74   0.9999 0.9999 0.9999\n",
      " 0.9999 4.17   0.9999 0.9999 3.85   4.95   0.9999 0.9999 5.89   0.9999\n",
      " 2.88   0.9999 0.9999 3.25   0.9999 0.9999 0.9999 5.97   2.88   3.54\n",
      " 3.25   2.88   0.9999 4.81   3.91   3.51   3.48   0.9999 2.88   3.79\n",
      " 2.88   0.9999 2.95   6.52   2.88   0.9999 0.9999 0.9999 3.39   4.98\n",
      " 0.9999 0.9999 0.9999 0.9999 2.88   0.9999 0.9999 0.9999 0.9999 0.9999\n",
      " 0.9999 0.9999 2.99   0.9999 0.9999 0.9999 0.9999 6.1    0.9999 0.9999\n",
      " 0.9999 3.65   3.6    3.79   0.9999 0.9999 0.9999 7.     0.9999 0.9999\n",
      " 3.71   2.88   3.12   3.36   0.9999 3.85   4.2    2.88   0.9999 4.49\n",
      " 0.9999 0.9999 0.9999 0.9999 0.9999 0.9999 0.9999 0.9999 0.9999 0.9999\n",
      " 0.9999 2.88   3.8    0.9999 0.9999 2.88   0.9999 0.9999 0.9999 0.9999\n",
      " 0.9999 4.58   3.64   0.9999 0.9999 0.9999 0.9999 0.9999 2.88   5.41\n",
      " 2.88   3.06   3.96   0.9999 0.9999 0.9999 0.9999 0.9999 0.9999 0.9999\n",
      " 0.9999 0.9999 0.9999 0.9999 5.49   3.48   4.52   2.88   0.9999 0.9999\n",
      " 0.9999 6.86   0.9999 0.9999 0.9999 0.9999 0.9999 0.9999 0.9999 0.9999\n",
      " 4.55   7.22   0.9999 0.9999 0.9999 3.7    4.42   0.9999 0.9999 0.9999\n",
      " 5.02   3.18   3.93   2.88   3.53   0.9999 3.57   2.88   4.15   2.88\n",
      " 0.9999 3.06   3.18   3.96   6.4    8.22   0.9999 0.9999 0.9999 0.9999]\n"
     ]
    }
   ],
   "source": [
    "ba=[]\n",
    "with open('Barton_Table_New_float.csv') as csv_file:\n",
    "    ba_temp = np.genfromtxt(csv_file, dtype=float, delimiter=',', filling_values=9999, usecols=[7])\n",
    "    ba = np.append(ba, ba_temp)\n",
    "    \n",
    "print(ba)"
   ]
  },
  {
   "cell_type": "code",
   "execution_count": 22,
   "metadata": {},
   "outputs": [
    {
     "name": "stdout",
     "output_type": "stream",
     "text": [
      "[  0.9999 221.5      0.9999 372.6    347.9      0.9999   0.9999   0.9999\n",
      "   0.9999 161.7    339.     342.1    448.5      0.9999   0.9999 227.8\n",
      "   0.9999 355.2    278.5    433.8    460.8    377.5      0.9999 335.7\n",
      " 312.9      0.9999   0.9999   0.9999 391.5      0.9999 229.4    368.9\n",
      "   0.9999 232.1      0.9999   0.9999 177.5      0.9999   0.9999   0.9999\n",
      " 274.9      0.9999   0.9999   0.9999 290.5      0.9999   0.9999   0.9999\n",
      "   0.9999 198.8     62.6    432.8      0.9999   0.9999   0.9999   0.9999\n",
      "   0.9999   0.9999   0.9999   0.9999   0.9999 427.8      0.9999   0.9999\n",
      "   0.9999   0.9999   0.9999   0.9999   0.9999 227.9      0.9999   0.9999\n",
      "   0.9999 399.       0.9999 296.8      0.9999   0.9999   0.9999   0.9999\n",
      " 441.5    274.5      0.9999   0.9999   0.9999 195.       0.9999 314.9\n",
      " 404.5    224.1      0.9999 126.1    117.6      0.9999 340.9     61.5\n",
      " 258.5     73.6    348.7    288.2    332.       0.9999   0.9999 359.2\n",
      "   0.9999   0.9999 247.5    411.       0.9999   0.9999   0.9999   0.9999\n",
      "   0.9999 211.3      0.9999 210.2    392.1    638.7      0.9999   0.9999\n",
      "   0.9999  42.1      0.9999   0.9999 404.1    444.8     55.4    349.\n",
      " 291.3    242.6    204.3    248.6    189.2    191.8    328.6      0.9999\n",
      " 439.2    488.1    540.9      0.9999 540.9      0.9999   0.9999   0.9999\n",
      "   0.9999   0.9999   0.9999   0.9999   0.9999 512.1      0.9999   0.9999\n",
      " 639.5      0.9999 243.3      0.9999   0.9999   0.9999   0.9999 520.9\n",
      " 152.4    352.8      0.9999 307.7      0.9999   0.9999 326.4      0.9999\n",
      " 322.1    149.6      0.9999   0.9999   0.9999 237.4    279.     434.\n",
      " 204.2      0.9999 279.6    229.9      0.9999 201.9    129.7      0.9999\n",
      " 696.4      0.9999   0.9999 250.1    545.     430.    ]\n"
     ]
    }
   ],
   "source": [
    "cv=[]\n",
    "with open('Barton_Table_New_float.csv') as csv_file:\n",
    "    cv_temp = np.genfromtxt(csv_file, dtype=float, delimiter=',', filling_values=9999, usecols=[8])\n",
    "    cv = np.append(cv, cv_temp)\n",
    "    \n",
    "print(cv)"
   ]
  },
  {
   "cell_type": "code",
   "execution_count": null,
   "metadata": {},
   "outputs": [],
   "source": [
    "    "
   ]
  }
 ],
 "metadata": {
  "kernelspec": {
   "display_name": "Python 3",
   "language": "python",
   "name": "python3"
  },
  "language_info": {
   "codemirror_mode": {
    "name": "ipython",
    "version": 3
   },
   "file_extension": ".py",
   "mimetype": "text/x-python",
   "name": "python",
   "nbconvert_exporter": "python",
   "pygments_lexer": "ipython3",
   "version": "3.7.3"
  }
 },
 "nbformat": 4,
 "nbformat_minor": 2
}
